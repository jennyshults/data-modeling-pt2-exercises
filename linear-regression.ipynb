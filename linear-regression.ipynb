{
    "cells": [
        {
            "attachments": {},
            "cell_type": "markdown",
            "metadata": {
                "azdata_cell_guid": "06246ed1-1d4c-4f2b-b435-6f10a8cc0b32"
            },
            "source": [
                "# Exercises: Linear Regression\n",
                "\n",
                "Before getting started with coding, read through this [article](https://towardsdatascience.com/simple-linear-regression-model-using-python-machine-learning-eab7924d18b4) and follow the instructions within the article to download the dataset.\n",
                "\n",
                "Use this notebook to code along with the article.\n",
                "\n",
                "## Getting Started\n",
                "\n",
                "Import the libraries you need to start working with the dataset and make a dataframe out of the CSV in the dataset."
            ]
        },
        {
            "cell_type": "code",
            "execution_count": null,
            "metadata": {
                "azdata_cell_guid": "588e3c93-98de-4b65-96e6-7d484d6ab700"
            },
            "outputs": [],
            "source": [
                "# Supress Warnings\n",
                "import warnings\n",
                "warnings.filterwarnings('ignore')\n",
                "\n",
                "# Import libraries\n",
                "import numpy as np\n",
                "import pandas as pd\n",
                "import matplotlib as plt\n",
                "import seaborn as sns\n",
                "\n",
                "# Read the given CSV file, and view some sample records\n",
                "advertising = pd.read_csv(\"Company_data.csv\")\n",
                "advertising"
            ]
        },
        {
            "attachments": {},
            "cell_type": "markdown",
            "metadata": {
                "azdata_cell_guid": "eadfb479-2f97-43d8-84a3-1c405de8c78f"
            },
            "source": [
                "Run `shape()`, `info()`, and `describe()` to see what is going on with the dataset."
            ]
        },
        {
            "cell_type": "code",
            "execution_count": null,
            "metadata": {
                "azdata_cell_guid": "dc164354-50ff-4f84-be05-06c687d8ce47"
            },
            "outputs": [],
            "source": [
                "advertising.shape()"
            ]
        },
        {
            "cell_type": "code",
            "execution_count": null,
            "metadata": {},
            "outputs": [],
            "source": [
                "advertising.info()"
            ]
        },
        {
            "cell_type": "code",
            "execution_count": null,
            "metadata": {},
            "outputs": [],
            "source": [
                "advertising.describe()"
            ]
        },
        {
            "attachments": {},
            "cell_type": "markdown",
            "metadata": {
                "azdata_cell_guid": "bdaf3901-a0ff-402f-a28f-f38a0f4cf174"
            },
            "source": [
                "## Visualizing Data\n",
                "\n",
                "Import the necessary libraries to make the same pairplots as the author. Pairplots are used by analysts to see any relationships that may exist between the x- and y-variables."
            ]
        },
        {
            "cell_type": "code",
            "execution_count": null,
            "metadata": {
                "azdata_cell_guid": "b89163f2-d3af-489a-96d0-02d9bbf9c0c2"
            },
            "outputs": [],
            "source": [
                "# Pairplot\n",
                "sns.pairplot(advertising, x_vars=['TV', 'Radio','Newspaper'], \n",
                "             y_vars='Sales', size=4, aspect=1, kind='scatter')\n",
                "plt.show()"
            ]
        },
        {
            "attachments": {},
            "cell_type": "markdown",
            "metadata": {
                "azdata_cell_guid": "96c6e651-137f-40e5-b09b-be10d861aaf1"
            },
            "source": [
                "Try out the heatmap next!"
            ]
        },
        {
            "cell_type": "code",
            "execution_count": null,
            "metadata": {
                "azdata_cell_guid": "cef86579-2a7a-4c6a-a070-371efa05d423"
            },
            "outputs": [],
            "source": [
                "# Heatmap\n",
                "sns.heatmap(advertising.corr(), cmap=\"YlGnBu\", annot = True)\n",
                "plt.show()"
            ]
        },
        {
            "attachments": {},
            "cell_type": "markdown",
            "metadata": {
                "azdata_cell_guid": "d7423f95-2aab-4e7c-bf51-569e53d49ff7"
            },
            "source": [
                "## Time for Linear Regression\n",
                "\n",
                "Follow the four steps in the article to perform linear regression."
            ]
        },
        {
            "cell_type": "code",
            "execution_count": null,
            "metadata": {
                "azdata_cell_guid": "6fb79277-18fd-4e28-90d3-c02c3854a31e"
            },
            "outputs": [],
            "source": [
                "# Step 1 is to assign your x and y\n",
                "X = advertising['TV']\n",
                "y = advertising['Sales']"
            ]
        },
        {
            "cell_type": "code",
            "execution_count": null,
            "metadata": {
                "azdata_cell_guid": "3b0f56d5-8ea9-4605-b90d-dc6989699339"
            },
            "outputs": [],
            "source": [
                "# Step 2 is to create your train and test sets\n",
                "from sklearn.model_selection import train_test_split\n",
                "X_train, X_test, y_train, y_test = train_test_split(X, y, train_size=0.7, test_size=0.3, random_state=100)"
            ]
        },
        {
            "cell_type": "code",
            "execution_count": null,
            "metadata": {
                "azdata_cell_guid": "09559580-dc0f-45c7-a5c8-f986df8910fb"
            },
            "outputs": [],
            "source": [
                "# Step 3 is to build the model. Remember to import any libraries you may need\n",
                "import statsmodels.api as sm\n",
                "X_train_sm = sm.add_constant(X_train)\n",
                "lr = sm.OLS(y_train, X_train_sm).fit()\n",
                "lr.params"
            ]
        },
        {
            "cell_type": "code",
            "execution_count": null,
            "metadata": {
                "azdata_cell_guid": "90e855fc-8940-4360-a957-a9793b3d25a3"
            },
            "outputs": [],
            "source": [
                "# Step 4 is to perform residual analysis\n",
                "lr.summary()"
            ]
        },
        {
            "cell_type": "code",
            "execution_count": null,
            "metadata": {},
            "outputs": [],
            "source": [
                "# Visualizing the regression line\n",
                "plt.scatter(X_train, y_train)\n",
                "plt.plot(X_train, 6.948 + 0.054*X_train, 'r')\n",
                "plt.show()"
            ]
        },
        {
            "attachments": {},
            "cell_type": "markdown",
            "metadata": {
                "azdata_cell_guid": "facc5744-17a8-4bc4-b9af-72be8f57a0d3"
            },
            "source": [
                "## Evaluate Your Model\n",
                "\n",
                "Use your model to make some predictions on the test data."
            ]
        },
        {
            "cell_type": "code",
            "execution_count": null,
            "metadata": {},
            "outputs": [],
            "source": [
                "X_test_sm = sm.add.constant()"
            ]
        },
        {
            "cell_type": "code",
            "execution_count": null,
            "metadata": {},
            "outputs": [],
            "source": [
                "from sklearn.metrics import r2_score\n",
                "r_squared = r2_score(y_test, y_test_pred)\n",
                "r_squared"
            ]
        },
        {
            "cell_type": "code",
            "execution_count": null,
            "metadata": {},
            "outputs": [],
            "source": [
                "plt.scatter(X_test, y_test)\n",
                "plt.plot(X_test, y_test_pred, 'r')\n",
                "plt.show()"
            ]
        },
        {
            "cell_type": "code",
            "execution_count": null,
            "metadata": {},
            "outputs": [],
            "source": [
                "from sklearn.model_selection import train_test_split\n",
                "X_train_lm, X_test_lm, y_train_lm, y_test_lm = train_test_split(\n",
                "    X, y, train_size=0.7, test_size=0.3, random_state=100)\n",
                "X_train_lm.shape"
            ]
        },
        {
            "cell_type": "code",
            "execution_count": null,
            "metadata": {},
            "outputs": [],
            "source": [
                "X_train_lm = X_train_lm.values.reshape(-1,1)\n",
                "X_test_lm = X_test_lm.values.reshape(-1,1)\n",
                "print(X_train_lm)\n",
                "print(X_test_lm)"
            ]
        },
        {
            "cell_type": "code",
            "execution_count": null,
            "metadata": {},
            "outputs": [],
            "source": [
                "from sklearn.linear_model import LinearRegression\n",
                "lm = LinearRegression()\n",
                "lm.fit(X_train_lm, y_train_lm)"
            ]
        },
        {
            "cell_type": "code",
            "execution_count": null,
            "metadata": {},
            "outputs": [],
            "source": [
                "print(f\"Intercept: {lm.intercept_}\")\n",
                "print(f\"Slope: {lm.coef_}\")"
            ]
        },
        {
            "cell_type": "code",
            "execution_count": null,
            "metadata": {},
            "outputs": [],
            "source": [
                "y_train_pred = lm.predict(X_train_lm)\n",
                "y_test_pred = lm.predict(X_test_lm)\n",
                "\n",
                "print(r2_score(y_train))"
            ]
        },
        {
            "attachments": {},
            "cell_type": "markdown",
            "metadata": {
                "azdata_cell_guid": "d5dcb353-c9bb-4287-b32c-a0d07fa90e7e"
            },
            "source": [
                "## Summarize Your Results\n",
                "\n",
                "Make note of your answers to each of the following questions by editing the cell.\n",
                "\n",
                "1. Did you get the same coefficients and p-values as the author?\n",
                "2. Did you get the same R-squared values as the author?\n",
                "3. Did you get the same F-statistic value and significance as the author?"
            ]
        }
    ],
    "metadata": {
        "kernelspec": {
            "display_name": "Python 3",
            "language": "python",
            "name": "python3"
        },
        "language_info": {
            "codemirror_mode": {
                "name": "ipython",
                "version": 3
            },
            "file_extension": ".py",
            "mimetype": "text/x-python",
            "name": "python",
            "nbconvert_exporter": "python",
            "pygments_lexer": "ipython3",
            "version": "3.8.8"
        }
    },
    "nbformat": 4,
    "nbformat_minor": 2
}
